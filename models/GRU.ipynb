{
  "cells": [
    {
      "cell_type": "code",
      "execution_count": 5,
      "metadata": {
        "id": "w4vFyL5qW46s"
      },
      "outputs": [],
      "source": [
        "import numpy as np\n",
        "import json\n",
        "import nltk\n",
        "import tensorflow as tf"
      ]
    },
    {
      "cell_type": "code",
      "execution_count": 6,
      "metadata": {
        "colab": {
          "base_uri": "https://localhost:8080/"
        },
        "id": "ifLrccbkOpSt",
        "outputId": "fdd519b2-ae25-4ba9-bfa1-278dc1b0b265"
      },
      "outputs": [
        {
          "name": "stderr",
          "output_type": "stream",
          "text": [
            "[nltk_data] Downloading package punkt to /home/student/nltk_data...\n",
            "[nltk_data]   Package punkt is already up-to-date!\n"
          ]
        },
        {
          "data": {
            "text/plain": [
              "True"
            ]
          },
          "execution_count": 6,
          "metadata": {},
          "output_type": "execute_result"
        }
      ],
      "source": [
        "\n",
        "nltk.download('punkt')"
      ]
    },
    {
      "cell_type": "code",
      "execution_count": 7,
      "metadata": {
        "id": "XTWATKoUW46w"
      },
      "outputs": [],
      "source": [
        "# Load the training and testing data\n",
        "with open('intents.json') as f:\n",
        "    intents = json.load(f)\n",
        "\n",
        "with open('intents_testing.json') as f:\n",
        "    testing_intents = json.load(f)\n",
        "\n",
        "# Preprocess the data\n",
        "words = []\n",
        "labels = []\n",
        "docs_x = []\n",
        "docs_y = []\n",
        "\n",
        "for intent in intents['intents']:\n",
        "    for pattern in intent['patterns']:\n",
        "        # tokenize each word in the pattern\n",
        "        wrds = nltk.word_tokenize(pattern)\n",
        "        words.extend(wrds)\n",
        "        docs_x.append(wrds)\n",
        "        docs_y.append(intent['tag'])\n",
        "\n",
        "    if intent['tag'] not in labels:\n",
        "        labels.append(intent['tag'])\n",
        "\n",
        "# Convert the words and labels to unique arrays\n",
        "words = sorted(set(words))\n",
        "labels = sorted(set(labels))\n",
        "\n",
        "# Create training and testing data sets\n",
        "training = []\n",
        "output = []\n",
        "out_empty = [0] * len(labels)\n",
        "\n",
        "for i, doc in enumerate(docs_x):\n",
        "    bag = []\n",
        "\n",
        "    for word in words:\n",
        "        if word in doc:\n",
        "            bag.append(1)\n",
        "        else:\n",
        "            bag.append(0)\n",
        "\n",
        "    output_row = out_empty[:]\n",
        "    output_row[labels.index(docs_y[i])] = 1\n",
        "\n",
        "    training.append(bag)\n",
        "    output.append(output_row)\n",
        "\n",
        "training = np.array(training)\n",
        "output = np.array(output)\n"
      ]
    },
    {
      "cell_type": "code",
      "execution_count": 8,
      "metadata": {},
      "outputs": [
        {
          "name": "stdout",
          "output_type": "stream",
          "text": [
            "Training data created\n"
          ]
        },
        {
          "name": "stderr",
          "output_type": "stream",
          "text": [
            "/tmp/ipykernel_516869/2311454109.py:36: VisibleDeprecationWarning: Creating an ndarray from ragged nested sequences (which is a list-or-tuple of lists-or-tuples-or ndarrays with different lengths or shapes) is deprecated. If you meant to do this, you must specify 'dtype=object' when creating the ndarray.\n",
            "  testing = np.array(testing)\n"
          ]
        }
      ],
      "source": [
        "import random\n",
        "data_file = open('intents_testing.json').read()\n",
        "intents_testing= json.loads(data_file)\n",
        "words_testing=[]\n",
        "classes_testing = []\n",
        "documents_testing = []\n",
        "\n",
        "for intent in intents_testing['intents']:\n",
        "    for pattern in intent['patterns']:\n",
        "        w = nltk.word_tokenize(pattern)\n",
        "        words_testing.extend(w)\n",
        "        documents_testing.append((w, intent['tag']))\n",
        "        if intent['tag'] not in classes_testing:\n",
        "            classes_testing.append(intent['tag'])\n",
        "\n",
        "words_testing = [(w.lower()) for w in words_testing ]\n",
        "words_testing = sorted(list(set(words_testing)))\n",
        "\n",
        "classes_testing = sorted(list(set(classes_testing)))\n",
        "\n",
        "testing = []\n",
        "\n",
        "output_empty = [0] * len(classes_testing)\n",
        "for doc in documents_testing:\n",
        "    bag = []\n",
        "    pattern_words = doc[0]\n",
        "    pattern_words = [(word.lower()) for word in pattern_words]\n",
        "    for w in words:\n",
        "        bag.append(1) if w in pattern_words else bag.append(0)\n",
        "    \n",
        "    output_row = list(output_empty)\n",
        "    output_row[classes_testing.index(doc[1])] = 1\n",
        "    \n",
        "    testing.append([bag, output_row])\n",
        "random.shuffle(testing)\n",
        "testing = np.array(testing)\n",
        "test_x = list(testing[:,0])\n",
        "test_y = list(testing[:,1])\n",
        "print(\"Training data created\")\n",
        "\n",
        "\n",
        "\n"
      ]
    },
    {
      "cell_type": "code",
      "execution_count": 9,
      "metadata": {
        "colab": {
          "base_uri": "https://localhost:8080/"
        },
        "id": "pZ2duCmPvVQc",
        "outputId": "91304d1f-aae2-441c-83c9-ce0712a9fd6b"
      },
      "outputs": [
        {
          "name": "stdout",
          "output_type": "stream",
          "text": [
            "Epoch 1/50\n"
          ]
        },
        {
          "name": "stderr",
          "output_type": "stream",
          "text": [
            "2023-04-27 01:02:37.661246: I tensorflow/core/common_runtime/executor.cc:1197] [/device:CPU:0] (DEBUG INFO) Executor start aborting (this does not indicate an error and you can ignore this message): INVALID_ARGUMENT: You must feed a value for placeholder tensor 'gradients/split_2_grad/concat/split_2/split_dim' with dtype int32\n",
            "\t [[{{node gradients/split_2_grad/concat/split_2/split_dim}}]]\n",
            "2023-04-27 01:02:37.663547: I tensorflow/core/common_runtime/executor.cc:1197] [/device:CPU:0] (DEBUG INFO) Executor start aborting (this does not indicate an error and you can ignore this message): INVALID_ARGUMENT: You must feed a value for placeholder tensor 'gradients/split_grad/concat/split/split_dim' with dtype int32\n",
            "\t [[{{node gradients/split_grad/concat/split/split_dim}}]]\n",
            "2023-04-27 01:02:37.665250: I tensorflow/core/common_runtime/executor.cc:1197] [/device:CPU:0] (DEBUG INFO) Executor start aborting (this does not indicate an error and you can ignore this message): INVALID_ARGUMENT: You must feed a value for placeholder tensor 'gradients/split_1_grad/concat/split_1/split_dim' with dtype int32\n",
            "\t [[{{node gradients/split_1_grad/concat/split_1/split_dim}}]]\n",
            "2023-04-27 01:02:38.204487: I tensorflow/core/common_runtime/executor.cc:1197] [/device:CPU:0] (DEBUG INFO) Executor start aborting (this does not indicate an error and you can ignore this message): INVALID_ARGUMENT: You must feed a value for placeholder tensor 'gradients/split_2_grad/concat/split_2/split_dim' with dtype int32\n",
            "\t [[{{node gradients/split_2_grad/concat/split_2/split_dim}}]]\n",
            "2023-04-27 01:02:38.208332: I tensorflow/core/common_runtime/executor.cc:1197] [/device:CPU:0] (DEBUG INFO) Executor start aborting (this does not indicate an error and you can ignore this message): INVALID_ARGUMENT: You must feed a value for placeholder tensor 'gradients/split_grad/concat/split/split_dim' with dtype int32\n",
            "\t [[{{node gradients/split_grad/concat/split/split_dim}}]]\n",
            "2023-04-27 01:02:38.210760: I tensorflow/core/common_runtime/executor.cc:1197] [/device:CPU:0] (DEBUG INFO) Executor start aborting (this does not indicate an error and you can ignore this message): INVALID_ARGUMENT: You must feed a value for placeholder tensor 'gradients/split_1_grad/concat/split_1/split_dim' with dtype int32\n",
            "\t [[{{node gradients/split_1_grad/concat/split_1/split_dim}}]]\n",
            "2023-04-27 01:02:39.132496: I tensorflow/core/common_runtime/executor.cc:1197] [/device:CPU:0] (DEBUG INFO) Executor start aborting (this does not indicate an error and you can ignore this message): INVALID_ARGUMENT: You must feed a value for placeholder tensor 'gradients/split_2_grad/concat/split_2/split_dim' with dtype int32\n",
            "\t [[{{node gradients/split_2_grad/concat/split_2/split_dim}}]]\n",
            "2023-04-27 01:02:39.135306: I tensorflow/core/common_runtime/executor.cc:1197] [/device:CPU:0] (DEBUG INFO) Executor start aborting (this does not indicate an error and you can ignore this message): INVALID_ARGUMENT: You must feed a value for placeholder tensor 'gradients/split_grad/concat/split/split_dim' with dtype int32\n",
            "\t [[{{node gradients/split_grad/concat/split/split_dim}}]]\n",
            "2023-04-27 01:02:39.138534: I tensorflow/core/common_runtime/executor.cc:1197] [/device:CPU:0] (DEBUG INFO) Executor start aborting (this does not indicate an error and you can ignore this message): INVALID_ARGUMENT: You must feed a value for placeholder tensor 'gradients/split_1_grad/concat/split_1/split_dim' with dtype int32\n",
            "\t [[{{node gradients/split_1_grad/concat/split_1/split_dim}}]]\n"
          ]
        },
        {
          "name": "stdout",
          "output_type": "stream",
          "text": [
            "109/109 [==============================] - ETA: 0s - loss: 3.6059 - accuracy: 0.0711"
          ]
        },
        {
          "name": "stderr",
          "output_type": "stream",
          "text": [
            "2023-04-27 01:03:51.497115: I tensorflow/core/common_runtime/executor.cc:1197] [/device:CPU:0] (DEBUG INFO) Executor start aborting (this does not indicate an error and you can ignore this message): INVALID_ARGUMENT: You must feed a value for placeholder tensor 'gradients/split_2_grad/concat/split_2/split_dim' with dtype int32\n",
            "\t [[{{node gradients/split_2_grad/concat/split_2/split_dim}}]]\n",
            "2023-04-27 01:03:51.499664: I tensorflow/core/common_runtime/executor.cc:1197] [/device:CPU:0] (DEBUG INFO) Executor start aborting (this does not indicate an error and you can ignore this message): INVALID_ARGUMENT: You must feed a value for placeholder tensor 'gradients/split_grad/concat/split/split_dim' with dtype int32\n",
            "\t [[{{node gradients/split_grad/concat/split/split_dim}}]]\n",
            "2023-04-27 01:03:51.501748: I tensorflow/core/common_runtime/executor.cc:1197] [/device:CPU:0] (DEBUG INFO) Executor start aborting (this does not indicate an error and you can ignore this message): INVALID_ARGUMENT: You must feed a value for placeholder tensor 'gradients/split_1_grad/concat/split_1/split_dim' with dtype int32\n",
            "\t [[{{node gradients/split_1_grad/concat/split_1/split_dim}}]]\n"
          ]
        },
        {
          "name": "stdout",
          "output_type": "stream",
          "text": [
            "109/109 [==============================] - 75s 664ms/step - loss: 3.6059 - accuracy: 0.0711 - val_loss: 3.8258 - val_accuracy: 0.0263\n",
            "Epoch 2/50\n",
            "109/109 [==============================] - 72s 664ms/step - loss: 3.4985 - accuracy: 0.0952 - val_loss: 3.8465 - val_accuracy: 0.0263\n",
            "Epoch 3/50\n",
            "109/109 [==============================] - 72s 660ms/step - loss: 3.4815 - accuracy: 0.1078 - val_loss: 3.8719 - val_accuracy: 0.0263\n",
            "Epoch 4/50\n",
            "109/109 [==============================] - 73s 666ms/step - loss: 3.4749 - accuracy: 0.1078 - val_loss: 3.8905 - val_accuracy: 0.0263\n",
            "Epoch 5/50\n",
            "109/109 [==============================] - 72s 657ms/step - loss: 3.4771 - accuracy: 0.1078 - val_loss: 3.8809 - val_accuracy: 0.0263\n",
            "Epoch 6/50\n",
            "109/109 [==============================] - 72s 660ms/step - loss: 3.4761 - accuracy: 0.1078 - val_loss: 3.9181 - val_accuracy: 0.0263\n",
            "Epoch 7/50\n",
            "109/109 [==============================] - 70s 638ms/step - loss: 3.4738 - accuracy: 0.1078 - val_loss: 3.8858 - val_accuracy: 0.0263\n",
            "Epoch 8/50\n",
            "109/109 [==============================] - 73s 668ms/step - loss: 3.4751 - accuracy: 0.1078 - val_loss: 3.8851 - val_accuracy: 0.0263\n",
            "Epoch 9/50\n",
            "109/109 [==============================] - 72s 658ms/step - loss: 3.4755 - accuracy: 0.1078 - val_loss: 3.8981 - val_accuracy: 0.0263\n",
            "Epoch 10/50\n",
            "109/109 [==============================] - 72s 663ms/step - loss: 3.4735 - accuracy: 0.1078 - val_loss: 3.8980 - val_accuracy: 0.0263\n",
            "Epoch 11/50\n",
            "109/109 [==============================] - 71s 650ms/step - loss: 3.4748 - accuracy: 0.1078 - val_loss: 3.8874 - val_accuracy: 0.0263\n",
            "Epoch 12/50\n",
            "109/109 [==============================] - 71s 653ms/step - loss: 3.4734 - accuracy: 0.1078 - val_loss: 3.8876 - val_accuracy: 0.0263\n",
            "Epoch 13/50\n",
            "109/109 [==============================] - 75s 686ms/step - loss: 3.4747 - accuracy: 0.1078 - val_loss: 3.8834 - val_accuracy: 0.0263\n",
            "Epoch 14/50\n",
            "109/109 [==============================] - 69s 633ms/step - loss: 3.4713 - accuracy: 0.1078 - val_loss: 3.8967 - val_accuracy: 0.0263\n",
            "Epoch 15/50\n",
            "109/109 [==============================] - 69s 631ms/step - loss: 3.4606 - accuracy: 0.1078 - val_loss: 3.8841 - val_accuracy: 0.0263\n",
            "Epoch 16/50\n",
            "109/109 [==============================] - 68s 623ms/step - loss: 3.4395 - accuracy: 0.1078 - val_loss: 3.8579 - val_accuracy: 0.0263\n",
            "Epoch 17/50\n",
            "109/109 [==============================] - 69s 635ms/step - loss: 3.3909 - accuracy: 0.1158 - val_loss: 3.8372 - val_accuracy: 0.0395\n",
            "Epoch 18/50\n",
            "109/109 [==============================] - 69s 637ms/step - loss: 3.3761 - accuracy: 0.1250 - val_loss: 3.8229 - val_accuracy: 0.0395\n",
            "Epoch 19/50\n",
            "109/109 [==============================] - 69s 630ms/step - loss: 3.3297 - accuracy: 0.1307 - val_loss: 3.7915 - val_accuracy: 0.0395\n",
            "Epoch 20/50\n",
            "109/109 [==============================] - 72s 662ms/step - loss: 3.3054 - accuracy: 0.1342 - val_loss: 3.7631 - val_accuracy: 0.0395\n",
            "Epoch 21/50\n",
            "109/109 [==============================] - 71s 652ms/step - loss: 3.2781 - accuracy: 0.1433 - val_loss: 3.7582 - val_accuracy: 0.0395\n",
            "Epoch 22/50\n",
            "109/109 [==============================] - 71s 647ms/step - loss: 3.2651 - accuracy: 0.1399 - val_loss: 3.7242 - val_accuracy: 0.0395\n",
            "Epoch 23/50\n",
            "109/109 [==============================] - 71s 647ms/step - loss: 3.2499 - accuracy: 0.1468 - val_loss: 3.7338 - val_accuracy: 0.0395\n",
            "Epoch 24/50\n",
            "109/109 [==============================] - 70s 642ms/step - loss: 3.2336 - accuracy: 0.1514 - val_loss: 3.7253 - val_accuracy: 0.0395\n",
            "Epoch 25/50\n",
            "109/109 [==============================] - 71s 649ms/step - loss: 3.2434 - accuracy: 0.1445 - val_loss: 3.6902 - val_accuracy: 0.0395\n",
            "Epoch 26/50\n",
            "109/109 [==============================] - 71s 656ms/step - loss: 3.2242 - accuracy: 0.1537 - val_loss: 3.6983 - val_accuracy: 0.0263\n",
            "Epoch 27/50\n",
            "109/109 [==============================] - 70s 644ms/step - loss: 3.1922 - accuracy: 0.1583 - val_loss: 3.6772 - val_accuracy: 0.0263\n",
            "Epoch 28/50\n",
            "109/109 [==============================] - 71s 653ms/step - loss: 3.1725 - accuracy: 0.1468 - val_loss: 3.6432 - val_accuracy: 0.0132\n",
            "Epoch 29/50\n",
            "109/109 [==============================] - 70s 644ms/step - loss: 3.1542 - accuracy: 0.1560 - val_loss: 3.6469 - val_accuracy: 0.0263\n",
            "Epoch 30/50\n",
            "109/109 [==============================] - 70s 643ms/step - loss: 3.1235 - accuracy: 0.1571 - val_loss: 3.6410 - val_accuracy: 0.0132\n",
            "Epoch 31/50\n",
            "109/109 [==============================] - 70s 642ms/step - loss: 3.1241 - accuracy: 0.1571 - val_loss: 3.6165 - val_accuracy: 0.0395\n",
            "Epoch 32/50\n",
            "109/109 [==============================] - 59s 539ms/step - loss: 3.0974 - accuracy: 0.1594 - val_loss: 3.7084 - val_accuracy: 0.0263\n",
            "Epoch 33/50\n",
            "109/109 [==============================] - 57s 520ms/step - loss: 3.0833 - accuracy: 0.1617 - val_loss: 3.6087 - val_accuracy: 0.0526\n",
            "Epoch 34/50\n",
            "109/109 [==============================] - 60s 552ms/step - loss: 3.0749 - accuracy: 0.1514 - val_loss: 3.6780 - val_accuracy: 0.0263\n",
            "Epoch 35/50\n",
            "109/109 [==============================] - 58s 528ms/step - loss: 3.0538 - accuracy: 0.1697 - val_loss: 3.6129 - val_accuracy: 0.0526\n",
            "Epoch 36/50\n",
            "109/109 [==============================] - 69s 634ms/step - loss: 3.0493 - accuracy: 0.1674 - val_loss: 3.6413 - val_accuracy: 0.0658\n",
            "Epoch 37/50\n",
            "109/109 [==============================] - 68s 628ms/step - loss: 3.0324 - accuracy: 0.1732 - val_loss: 3.6206 - val_accuracy: 0.0526\n",
            "Epoch 38/50\n",
            "109/109 [==============================] - 68s 620ms/step - loss: 3.0257 - accuracy: 0.1720 - val_loss: 3.6464 - val_accuracy: 0.0526\n",
            "Epoch 39/50\n",
            "109/109 [==============================] - 70s 639ms/step - loss: 3.0019 - accuracy: 0.1789 - val_loss: 3.6469 - val_accuracy: 0.0526\n",
            "Epoch 40/50\n",
            "109/109 [==============================] - 77s 708ms/step - loss: 2.9871 - accuracy: 0.1904 - val_loss: 3.5957 - val_accuracy: 0.0526\n",
            "Epoch 41/50\n",
            "109/109 [==============================] - 75s 691ms/step - loss: 2.9722 - accuracy: 0.1915 - val_loss: 3.5701 - val_accuracy: 0.0921\n",
            "Epoch 42/50\n",
            "109/109 [==============================] - 74s 676ms/step - loss: 2.9564 - accuracy: 0.1904 - val_loss: 3.6070 - val_accuracy: 0.0658\n",
            "Epoch 43/50\n",
            "109/109 [==============================] - 79s 727ms/step - loss: 2.9479 - accuracy: 0.1881 - val_loss: 3.5469 - val_accuracy: 0.0921\n",
            "Epoch 44/50\n",
            "109/109 [==============================] - 54s 490ms/step - loss: 2.9307 - accuracy: 0.1972 - val_loss: 3.5223 - val_accuracy: 0.0789\n",
            "Epoch 45/50\n",
            "109/109 [==============================] - 44s 402ms/step - loss: 2.9040 - accuracy: 0.1915 - val_loss: 3.4569 - val_accuracy: 0.1184\n",
            "Epoch 46/50\n",
            "109/109 [==============================] - 46s 427ms/step - loss: 2.8760 - accuracy: 0.2007 - val_loss: 3.4231 - val_accuracy: 0.1316\n",
            "Epoch 47/50\n",
            "109/109 [==============================] - 43s 395ms/step - loss: 2.8613 - accuracy: 0.2110 - val_loss: 3.3901 - val_accuracy: 0.1316\n",
            "Epoch 48/50\n",
            "109/109 [==============================] - 44s 400ms/step - loss: 2.8342 - accuracy: 0.2122 - val_loss: 3.3805 - val_accuracy: 0.1184\n",
            "Epoch 49/50\n",
            "109/109 [==============================] - 45s 411ms/step - loss: 2.8386 - accuracy: 0.2144 - val_loss: 3.4018 - val_accuracy: 0.1184\n",
            "Epoch 50/50\n",
            "109/109 [==============================] - 43s 397ms/step - loss: 2.7969 - accuracy: 0.2213 - val_loss: 3.3267 - val_accuracy: 0.1316\n"
          ]
        }
      ],
      "source": [
        "\n",
        "# Define the model architecture\n",
        "model = tf.keras.Sequential([\n",
        "    tf.keras.layers.Embedding(len(words), 64),\n",
        "    tf.keras.layers.GRU(64, dropout=0.1),\n",
        "    tf.keras.layers.Dense(32, activation='sigmoid'),\n",
        "    tf.keras.layers.Dense(len(labels), activation='softmax')\n",
        "])\n",
        "\n",
        "# Compile the model\n",
        "model.compile(loss='categorical_crossentropy', optimizer='adam', metrics=['accuracy'])\n",
        "\n",
        "# Train the model\n",
        "hist=model.fit(training, output,validation_data=(test_x, test_y), epochs=50, batch_size=8)\n",
        "# hist = model.fit(data, encoded_labels, validation_data=(data, encoded_labels), epochs=100, batch_size=8, verbose=1)\n",
        "\n"
      ]
    },
    {
      "cell_type": "code",
      "execution_count": null,
      "metadata": {
        "colab": {
          "base_uri": "https://localhost:8080/"
        },
        "id": "SipwsJO3A31w",
        "outputId": "cadb3e84-4c7f-4fa3-c8ce-cb36d1925489"
      },
      "outputs": [],
      "source": []
    },
    {
      "cell_type": "code",
      "execution_count": 10,
      "metadata": {
        "colab": {
          "base_uri": "https://localhost:8080/"
        },
        "id": "PbStcNkGyZRa",
        "outputId": "52164d9f-9760-4342-b44a-7fac8c854f1b"
      },
      "outputs": [
        {
          "name": "stderr",
          "output_type": "stream",
          "text": [
            "2023-04-27 01:58:10.458849: I tensorflow/core/common_runtime/executor.cc:1197] [/device:CPU:0] (DEBUG INFO) Executor start aborting (this does not indicate an error and you can ignore this message): INVALID_ARGUMENT: You must feed a value for placeholder tensor 'gradients/split_2_grad/concat/split_2/split_dim' with dtype int32\n",
            "\t [[{{node gradients/split_2_grad/concat/split_2/split_dim}}]]\n",
            "2023-04-27 01:58:10.460660: I tensorflow/core/common_runtime/executor.cc:1197] [/device:CPU:0] (DEBUG INFO) Executor start aborting (this does not indicate an error and you can ignore this message): INVALID_ARGUMENT: You must feed a value for placeholder tensor 'gradients/split_grad/concat/split/split_dim' with dtype int32\n",
            "\t [[{{node gradients/split_grad/concat/split/split_dim}}]]\n",
            "2023-04-27 01:58:10.462015: I tensorflow/core/common_runtime/executor.cc:1197] [/device:CPU:0] (DEBUG INFO) Executor start aborting (this does not indicate an error and you can ignore this message): INVALID_ARGUMENT: You must feed a value for placeholder tensor 'gradients/split_1_grad/concat/split_1/split_dim' with dtype int32\n",
            "\t [[{{node gradients/split_1_grad/concat/split_1/split_dim}}]]\n"
          ]
        },
        {
          "name": "stdout",
          "output_type": "stream",
          "text": [
            "28/28 [==============================] - 4s 119ms/step\n",
            "Training accuracy: 0.0860091743119266\n",
            "Training precision: 0.09465357464216473\n",
            "Training recall: 0.0860091743119266\n",
            "Training f1 score: 0.09012045185046495\n"
          ]
        },
        {
          "name": "stderr",
          "output_type": "stream",
          "text": [
            "/home/student/.local/lib/python3.10/site-packages/sklearn/metrics/_classification.py:1334: UndefinedMetricWarning: Precision is ill-defined and being set to 0.0 in labels with no predicted samples. Use `zero_division` parameter to control this behavior.\n",
            "  _warn_prf(average, modifier, msg_start, len(result))\n"
          ]
        }
      ],
      "source": [
        "from sklearn.metrics import precision_score, recall_score, f1_score, accuracy_score\n",
        "\n",
        "# Get the model's predictions for the training set\n",
        "y_train_pred = model.predict(training)\n",
        "\n",
        "# Convert the predicted probabilities to binary predictions\n",
        "y_train_pred_binary = (y_train_pred > 0.5).astype(int)\n",
        "\n",
        "# Compute the precision, recall, and f1 score\n",
        "train_accuracy = accuracy_score(output, y_train_pred_binary)\n",
        "train_precision = precision_score(output, y_train_pred_binary, average='weighted')\n",
        "train_recall = recall_score(output, y_train_pred_binary, average='weighted')\n",
        "train_f1 = f1_score(output, y_train_pred_binary, average='weighted')\n",
        "\n",
        "print('Training accuracy:', train_accuracy)\n",
        "print('Training precision:', train_precision)\n",
        "print('Training recall:', train_recall)\n",
        "print('Training f1 score:', train_f1)\n"
      ]
    },
    {
      "cell_type": "code",
      "execution_count": 11,
      "metadata": {
        "colab": {
          "base_uri": "https://localhost:8080/"
        },
        "id": "9HmnxO2QAzre",
        "outputId": "ec6bdcbf-3f53-43d8-8bf0-4aa8591f097e"
      },
      "outputs": [
        {
          "name": "stdout",
          "output_type": "stream",
          "text": [
            "3/3 [==============================] - 0s 86ms/step\n",
            "Training accuracy: 0.039473684210526314\n",
            "Testing precision: 0.05263157894736842\n",
            "Testing recall: 0.039473684210526314\n",
            "Testing f1 score: 0.043859649122807015\n"
          ]
        },
        {
          "name": "stderr",
          "output_type": "stream",
          "text": [
            "/home/student/.local/lib/python3.10/site-packages/sklearn/metrics/_classification.py:1334: UndefinedMetricWarning: Precision is ill-defined and being set to 0.0 in labels with no predicted samples. Use `zero_division` parameter to control this behavior.\n",
            "  _warn_prf(average, modifier, msg_start, len(result))\n"
          ]
        }
      ],
      "source": [
        "from sklearn.metrics import precision_score, recall_score, f1_score, accuracy_score\n",
        "\n",
        "# Get the model's predictions for the test set\n",
        "y_pred = model.predict(test_x)\n",
        "\n",
        "# Convert the predicted probabilities to binary predictions\n",
        "y_pred_binary = (y_pred > 0.5).astype(int)\n",
        "\n",
        "# Compute the precision, recall, and f1 score\n",
        "test_accuracy = accuracy_score(test_y, y_pred_binary)\n",
        "precision = precision_score(test_y, y_pred_binary,average='weighted')\n",
        "recall = recall_score(test_y, y_pred_binary, average='weighted')\n",
        "f1 = f1_score(test_y, y_pred_binary, average='weighted')\n",
        "\n",
        "print('Training accuracy:', test_accuracy)\n",
        "print('Testing precision:', precision)\n",
        "print('Testing recall:', recall)\n",
        "print('Testing f1 score:', f1)\n"
      ]
    },
    {
      "cell_type": "code",
      "execution_count": 12,
      "metadata": {
        "colab": {
          "base_uri": "https://localhost:8080/",
          "height": 449
        },
        "id": "y44PL93BRiAI",
        "outputId": "f765988a-1337-4dbe-f601-46639e947f51"
      },
      "outputs": [
        {
          "data": {
            "image/png": "[encoded data removed]",
            "text/plain": [
              "<Figure size 640x480 with 1 Axes>"
            ]
          },
          "metadata": {},
          "output_type": "display_data"
        }
      ],
      "source": [
        "import matplotlib.pyplot as plt\n",
        "\n",
        "# Plot the training and validation accuracy over time\n",
        "plt.plot(hist.history['accuracy'], label='Training accuracy')\n",
        "plt.plot(hist.history['val_accuracy'], label='Validation accuracy')\n",
        "plt.xlabel('Epoch')\n",
        "plt.ylabel('Accuracy')\n",
        "plt.legend()\n",
        "plt.show()\n",
        "\n"
      ]
    },
    {
      "cell_type": "code",
      "execution_count": 13,
      "metadata": {
        "colab": {
          "base_uri": "https://localhost:8080/",
          "height": 466
        },
        "id": "LL007N-Vjipf",
        "outputId": "afb87b03-20ee-4a8f-b52d-a2b47c62ea5d"
      },
      "outputs": [
        {
          "data": {
            "text/plain": [
              "<matplotlib.legend.Legend at 0x7faa43cf32b0>"
            ]
          },
          "execution_count": 13,
          "metadata": {},
          "output_type": "execute_result"
        },
        {
          "data": {
            "image/png": "[encoded data removed]",
            "text/plain": [
              "<Figure size 640x480 with 1 Axes>"
            ]
          },
          "metadata": {},
          "output_type": "display_data"
        }
      ],
      "source": [
        "# Plot the training and validation loss over time\n",
        "plt.plot(hist.history['loss'], label='Training loss')\n",
        "plt.plot(hist.history['val_loss'], label='Validation loss')\n",
        "plt.xlabel('Epoch')\n",
        "plt.ylabel('Loss')\n",
        "plt.legend()"
      ]
    },
    {
      "cell_type": "code",
      "execution_count": 34,
      "metadata": {
        "colab": {
          "base_uri": "https://localhost:8080/",
          "height": 1000
        },
        "id": "ILWkheadvJWa",
        "outputId": "154ad939-d929-40a7-9306-07531b1ffdd8"
      },
      "outputs": [
        {
          "name": "stderr",
          "output_type": "stream",
          "text": [
            "/tmp/ipykernel_516869/1693207763.py:19: DeprecationWarning: KerasClassifier is deprecated, use Sci-Keras (https://github.com/adriangb/scikeras) instead. See https://www.adriangb.com/scikeras/stable/migration.html for help migrating.\n",
            "  model = KerasClassifier(build_fn=create_gru_model, input_shape=(training.shape[1], 1), epochs=10, batch_size=32)\n"
          ]
        },
        {
          "name": "stdout",
          "output_type": "stream",
          "text": [
            "Epoch 1/10\n"
          ]
        },
        {
          "name": "stderr",
          "output_type": "stream",
          "text": [
            "2023-04-27 02:25:08.635252: I tensorflow/core/common_runtime/executor.cc:1197] [/device:CPU:0] (DEBUG INFO) Executor start aborting (this does not indicate an error and you can ignore this message): INVALID_ARGUMENT: You must feed a value for placeholder tensor 'gradients/split_2_grad/concat/split_2/split_dim' with dtype int32\n",
            "\t [[{{node gradients/split_2_grad/concat/split_2/split_dim}}]]\n",
            "2023-04-27 02:25:08.637415: I tensorflow/core/common_runtime/executor.cc:1197] [/device:CPU:0] (DEBUG INFO) Executor start aborting (this does not indicate an error and you can ignore this message): INVALID_ARGUMENT: You must feed a value for placeholder tensor 'gradients/split_grad/concat/split/split_dim' with dtype int32\n",
            "\t [[{{node gradients/split_grad/concat/split/split_dim}}]]\n",
            "2023-04-27 02:25:08.639279: I tensorflow/core/common_runtime/executor.cc:1197] [/device:CPU:0] (DEBUG INFO) Executor start aborting (this does not indicate an error and you can ignore this message): INVALID_ARGUMENT: You must feed a value for placeholder tensor 'gradients/split_1_grad/concat/split_1/split_dim' with dtype int32\n",
            "\t [[{{node gradients/split_1_grad/concat/split_1/split_dim}}]]\n",
            "2023-04-27 02:25:09.018708: I tensorflow/core/common_runtime/executor.cc:1197] [/device:CPU:0] (DEBUG INFO) Executor start aborting (this does not indicate an error and you can ignore this message): INVALID_ARGUMENT: You must feed a value for placeholder tensor 'gradients/split_2_grad/concat/split_2/split_dim' with dtype int32\n",
            "\t [[{{node gradients/split_2_grad/concat/split_2/split_dim}}]]\n",
            "2023-04-27 02:25:09.020716: I tensorflow/core/common_runtime/executor.cc:1197] [/device:CPU:0] (DEBUG INFO) Executor start aborting (this does not indicate an error and you can ignore this message): INVALID_ARGUMENT: You must feed a value for placeholder tensor 'gradients/split_grad/concat/split/split_dim' with dtype int32\n",
            "\t [[{{node gradients/split_grad/concat/split/split_dim}}]]\n",
            "2023-04-27 02:25:09.022958: I tensorflow/core/common_runtime/executor.cc:1197] [/device:CPU:0] (DEBUG INFO) Executor start aborting (this does not indicate an error and you can ignore this message): INVALID_ARGUMENT: You must feed a value for placeholder tensor 'gradients/split_1_grad/concat/split_1/split_dim' with dtype int32\n",
            "\t [[{{node gradients/split_1_grad/concat/split_1/split_dim}}]]\n",
            "2023-04-27 02:25:09.761426: I tensorflow/core/common_runtime/executor.cc:1197] [/device:CPU:0] (DEBUG INFO) Executor start aborting (this does not indicate an error and you can ignore this message): INVALID_ARGUMENT: You must feed a value for placeholder tensor 'gradients/split_2_grad/concat/split_2/split_dim' with dtype int32\n",
            "\t [[{{node gradients/split_2_grad/concat/split_2/split_dim}}]]\n",
            "2023-04-27 02:25:09.763544: I tensorflow/core/common_runtime/executor.cc:1197] [/device:CPU:0] (DEBUG INFO) Executor start aborting (this does not indicate an error and you can ignore this message): INVALID_ARGUMENT: You must feed a value for placeholder tensor 'gradients/split_grad/concat/split/split_dim' with dtype int32\n",
            "\t [[{{node gradients/split_grad/concat/split/split_dim}}]]\n",
            "2023-04-27 02:25:09.764770: I tensorflow/core/common_runtime/executor.cc:1197] [/device:CPU:0] (DEBUG INFO) Executor start aborting (this does not indicate an error and you can ignore this message): INVALID_ARGUMENT: You must feed a value for placeholder tensor 'gradients/split_1_grad/concat/split_1/split_dim' with dtype int32\n",
            "\t [[{{node gradients/split_1_grad/concat/split_1/split_dim}}]]\n"
          ]
        },
        {
          "name": "stdout",
          "output_type": "stream",
          "text": [
            "3/3 [==============================] - 2s 9ms/step - loss: 0.6927 - accuracy: 0.5125\n",
            "Epoch 2/10\n",
            "3/3 [==============================] - 0s 11ms/step - loss: 0.6907 - accuracy: 0.5250\n",
            "Epoch 3/10\n",
            "3/3 [==============================] - 0s 14ms/step - loss: 0.6905 - accuracy: 0.5375\n",
            "Epoch 4/10\n",
            "3/3 [==============================] - 0s 14ms/step - loss: 0.6889 - accuracy: 0.5500\n",
            "Epoch 5/10\n",
            "3/3 [==============================] - 0s 15ms/step - loss: 0.6873 - accuracy: 0.5500\n",
            "Epoch 6/10\n",
            "3/3 [==============================] - 0s 15ms/step - loss: 0.6858 - accuracy: 0.5625\n",
            "Epoch 7/10\n",
            "3/3 [==============================] - 0s 14ms/step - loss: 0.6833 - accuracy: 0.5500\n",
            "Epoch 8/10\n",
            "3/3 [==============================] - 0s 13ms/step - loss: 0.6807 - accuracy: 0.5875\n",
            "Epoch 9/10\n",
            "3/3 [==============================] - 0s 14ms/step - loss: 0.6765 - accuracy: 0.6250\n",
            "Epoch 10/10\n",
            "3/3 [==============================] - 0s 15ms/step - loss: 0.6706 - accuracy: 0.6125\n",
            "1/1 [==============================] - 0s 316ms/step\n"
          ]
        },
        {
          "name": "stderr",
          "output_type": "stream",
          "text": [
            "2023-04-27 02:25:11.358099: I tensorflow/core/common_runtime/executor.cc:1197] [/device:CPU:0] (DEBUG INFO) Executor start aborting (this does not indicate an error and you can ignore this message): INVALID_ARGUMENT: You must feed a value for placeholder tensor 'gradients/split_2_grad/concat/split_2/split_dim' with dtype int32\n",
            "\t [[{{node gradients/split_2_grad/concat/split_2/split_dim}}]]\n",
            "2023-04-27 02:25:11.359574: I tensorflow/core/common_runtime/executor.cc:1197] [/device:CPU:0] (DEBUG INFO) Executor start aborting (this does not indicate an error and you can ignore this message): INVALID_ARGUMENT: You must feed a value for placeholder tensor 'gradients/split_grad/concat/split/split_dim' with dtype int32\n",
            "\t [[{{node gradients/split_grad/concat/split/split_dim}}]]\n",
            "2023-04-27 02:25:11.360801: I tensorflow/core/common_runtime/executor.cc:1197] [/device:CPU:0] (DEBUG INFO) Executor start aborting (this does not indicate an error and you can ignore this message): INVALID_ARGUMENT: You must feed a value for placeholder tensor 'gradients/split_1_grad/concat/split_1/split_dim' with dtype int32\n",
            "\t [[{{node gradients/split_1_grad/concat/split_1/split_dim}}]]\n"
          ]
        },
        {
          "name": "stdout",
          "output_type": "stream",
          "text": [
            "Epoch 1/10\n"
          ]
        },
        {
          "name": "stderr",
          "output_type": "stream",
          "text": [
            "2023-04-27 02:25:11.662671: I tensorflow/core/common_runtime/executor.cc:1197] [/device:CPU:0] (DEBUG INFO) Executor start aborting (this does not indicate an error and you can ignore this message): INVALID_ARGUMENT: You must feed a value for placeholder tensor 'gradients/split_2_grad/concat/split_2/split_dim' with dtype int32\n",
            "\t [[{{node gradients/split_2_grad/concat/split_2/split_dim}}]]\n",
            "2023-04-27 02:25:11.664042: I tensorflow/core/common_runtime/executor.cc:1197] [/device:CPU:0] (DEBUG INFO) Executor start aborting (this does not indicate an error and you can ignore this message): INVALID_ARGUMENT: You must feed a value for placeholder tensor 'gradients/split_grad/concat/split/split_dim' with dtype int32\n",
            "\t [[{{node gradients/split_grad/concat/split/split_dim}}]]\n",
            "2023-04-27 02:25:11.665340: I tensorflow/core/common_runtime/executor.cc:1197] [/device:CPU:0] (DEBUG INFO) Executor start aborting (this does not indicate an error and you can ignore this message): INVALID_ARGUMENT: You must feed a value for placeholder tensor 'gradients/split_1_grad/concat/split_1/split_dim' with dtype int32\n",
            "\t [[{{node gradients/split_1_grad/concat/split_1/split_dim}}]]\n",
            "2023-04-27 02:25:11.952646: I tensorflow/core/common_runtime/executor.cc:1197] [/device:CPU:0] (DEBUG INFO) Executor start aborting (this does not indicate an error and you can ignore this message): INVALID_ARGUMENT: You must feed a value for placeholder tensor 'gradients/split_2_grad/concat/split_2/split_dim' with dtype int32\n",
            "\t [[{{node gradients/split_2_grad/concat/split_2/split_dim}}]]\n",
            "2023-04-27 02:25:11.955238: I tensorflow/core/common_runtime/executor.cc:1197] [/device:CPU:0] (DEBUG INFO) Executor start aborting (this does not indicate an error and you can ignore this message): INVALID_ARGUMENT: You must feed a value for placeholder tensor 'gradients/split_grad/concat/split/split_dim' with dtype int32\n",
            "\t [[{{node gradients/split_grad/concat/split/split_dim}}]]\n",
            "2023-04-27 02:25:11.957021: I tensorflow/core/common_runtime/executor.cc:1197] [/device:CPU:0] (DEBUG INFO) Executor start aborting (this does not indicate an error and you can ignore this message): INVALID_ARGUMENT: You must feed a value for placeholder tensor 'gradients/split_1_grad/concat/split_1/split_dim' with dtype int32\n",
            "\t [[{{node gradients/split_1_grad/concat/split_1/split_dim}}]]\n",
            "2023-04-27 02:25:12.666594: I tensorflow/core/common_runtime/executor.cc:1197] [/device:CPU:0] (DEBUG INFO) Executor start aborting (this does not indicate an error and you can ignore this message): INVALID_ARGUMENT: You must feed a value for placeholder tensor 'gradients/split_2_grad/concat/split_2/split_dim' with dtype int32\n",
            "\t [[{{node gradients/split_2_grad/concat/split_2/split_dim}}]]\n",
            "2023-04-27 02:25:12.668228: I tensorflow/core/common_runtime/executor.cc:1197] [/device:CPU:0] (DEBUG INFO) Executor start aborting (this does not indicate an error and you can ignore this message): INVALID_ARGUMENT: You must feed a value for placeholder tensor 'gradients/split_grad/concat/split/split_dim' with dtype int32\n",
            "\t [[{{node gradients/split_grad/concat/split/split_dim}}]]\n",
            "2023-04-27 02:25:12.669476: I tensorflow/core/common_runtime/executor.cc:1197] [/device:CPU:0] (DEBUG INFO) Executor start aborting (this does not indicate an error and you can ignore this message): INVALID_ARGUMENT: You must feed a value for placeholder tensor 'gradients/split_1_grad/concat/split_1/split_dim' with dtype int32\n",
            "\t [[{{node gradients/split_1_grad/concat/split_1/split_dim}}]]\n"
          ]
        },
        {
          "name": "stdout",
          "output_type": "stream",
          "text": [
            "3/3 [==============================] - 2s 12ms/step - loss: 0.6924 - accuracy: 0.5750\n",
            "Epoch 2/10\n",
            "3/3 [==============================] - 0s 12ms/step - loss: 0.6893 - accuracy: 0.6000\n",
            "Epoch 3/10\n",
            "3/3 [==============================] - 0s 13ms/step - loss: 0.6867 - accuracy: 0.6000\n",
            "Epoch 4/10\n",
            "3/3 [==============================] - 0s 14ms/step - loss: 0.6839 - accuracy: 0.6125\n",
            "Epoch 5/10\n",
            "3/3 [==============================] - 0s 15ms/step - loss: 0.6820 - accuracy: 0.6125\n",
            "Epoch 6/10\n",
            "3/3 [==============================] - 0s 17ms/step - loss: 0.6788 - accuracy: 0.6000\n",
            "Epoch 7/10\n",
            "3/3 [==============================] - 0s 30ms/step - loss: 0.6758 - accuracy: 0.6000\n",
            "Epoch 8/10\n",
            "3/3 [==============================] - 0s 16ms/step - loss: 0.6717 - accuracy: 0.6000\n",
            "Epoch 9/10\n",
            "3/3 [==============================] - 0s 17ms/step - loss: 0.6663 - accuracy: 0.6125\n",
            "Epoch 10/10\n",
            "3/3 [==============================] - 0s 22ms/step - loss: 0.6630 - accuracy: 0.6125\n",
            "1/1 [==============================] - 0s 305ms/step\n"
          ]
        },
        {
          "name": "stderr",
          "output_type": "stream",
          "text": [
            "2023-04-27 02:25:14.607937: I tensorflow/core/common_runtime/executor.cc:1197] [/device:CPU:0] (DEBUG INFO) Executor start aborting (this does not indicate an error and you can ignore this message): INVALID_ARGUMENT: You must feed a value for placeholder tensor 'gradients/split_2_grad/concat/split_2/split_dim' with dtype int32\n",
            "\t [[{{node gradients/split_2_grad/concat/split_2/split_dim}}]]\n",
            "2023-04-27 02:25:14.610128: I tensorflow/core/common_runtime/executor.cc:1197] [/device:CPU:0] (DEBUG INFO) Executor start aborting (this does not indicate an error and you can ignore this message): INVALID_ARGUMENT: You must feed a value for placeholder tensor 'gradients/split_grad/concat/split/split_dim' with dtype int32\n",
            "\t [[{{node gradients/split_grad/concat/split/split_dim}}]]\n",
            "2023-04-27 02:25:14.611413: I tensorflow/core/common_runtime/executor.cc:1197] [/device:CPU:0] (DEBUG INFO) Executor start aborting (this does not indicate an error and you can ignore this message): INVALID_ARGUMENT: You must feed a value for placeholder tensor 'gradients/split_1_grad/concat/split_1/split_dim' with dtype int32\n",
            "\t [[{{node gradients/split_1_grad/concat/split_1/split_dim}}]]\n"
          ]
        },
        {
          "name": "stdout",
          "output_type": "stream",
          "text": [
            "Epoch 1/10\n"
          ]
        },
        {
          "name": "stderr",
          "output_type": "stream",
          "text": [
            "2023-04-27 02:25:14.970464: I tensorflow/core/common_runtime/executor.cc:1197] [/device:CPU:0] (DEBUG INFO) Executor start aborting (this does not indicate an error and you can ignore this message): INVALID_ARGUMENT: You must feed a value for placeholder tensor 'gradients/split_2_grad/concat/split_2/split_dim' with dtype int32\n",
            "\t [[{{node gradients/split_2_grad/concat/split_2/split_dim}}]]\n",
            "2023-04-27 02:25:14.972600: I tensorflow/core/common_runtime/executor.cc:1197] [/device:CPU:0] (DEBUG INFO) Executor start aborting (this does not indicate an error and you can ignore this message): INVALID_ARGUMENT: You must feed a value for placeholder tensor 'gradients/split_grad/concat/split/split_dim' with dtype int32\n",
            "\t [[{{node gradients/split_grad/concat/split/split_dim}}]]\n",
            "2023-04-27 02:25:14.974327: I tensorflow/core/common_runtime/executor.cc:1197] [/device:CPU:0] (DEBUG INFO) Executor start aborting (this does not indicate an error and you can ignore this message): INVALID_ARGUMENT: You must feed a value for placeholder tensor 'gradients/split_1_grad/concat/split_1/split_dim' with dtype int32\n",
            "\t [[{{node gradients/split_1_grad/concat/split_1/split_dim}}]]\n",
            "2023-04-27 02:25:15.328778: I tensorflow/core/common_runtime/executor.cc:1197] [/device:CPU:0] (DEBUG INFO) Executor start aborting (this does not indicate an error and you can ignore this message): INVALID_ARGUMENT: You must feed a value for placeholder tensor 'gradients/split_2_grad/concat/split_2/split_dim' with dtype int32\n",
            "\t [[{{node gradients/split_2_grad/concat/split_2/split_dim}}]]\n",
            "2023-04-27 02:25:15.330839: I tensorflow/core/common_runtime/executor.cc:1197] [/device:CPU:0] (DEBUG INFO) Executor start aborting (this does not indicate an error and you can ignore this message): INVALID_ARGUMENT: You must feed a value for placeholder tensor 'gradients/split_grad/concat/split/split_dim' with dtype int32\n",
            "\t [[{{node gradients/split_grad/concat/split/split_dim}}]]\n",
            "2023-04-27 02:25:15.332355: I tensorflow/core/common_runtime/executor.cc:1197] [/device:CPU:0] (DEBUG INFO) Executor start aborting (this does not indicate an error and you can ignore this message): INVALID_ARGUMENT: You must feed a value for placeholder tensor 'gradients/split_1_grad/concat/split_1/split_dim' with dtype int32\n",
            "\t [[{{node gradients/split_1_grad/concat/split_1/split_dim}}]]\n",
            "2023-04-27 02:25:16.038618: I tensorflow/core/common_runtime/executor.cc:1197] [/device:CPU:0] (DEBUG INFO) Executor start aborting (this does not indicate an error and you can ignore this message): INVALID_ARGUMENT: You must feed a value for placeholder tensor 'gradients/split_2_grad/concat/split_2/split_dim' with dtype int32\n",
            "\t [[{{node gradients/split_2_grad/concat/split_2/split_dim}}]]\n",
            "2023-04-27 02:25:16.040310: I tensorflow/core/common_runtime/executor.cc:1197] [/device:CPU:0] (DEBUG INFO) Executor start aborting (this does not indicate an error and you can ignore this message): INVALID_ARGUMENT: You must feed a value for placeholder tensor 'gradients/split_grad/concat/split/split_dim' with dtype int32\n",
            "\t [[{{node gradients/split_grad/concat/split/split_dim}}]]\n",
            "2023-04-27 02:25:16.041439: I tensorflow/core/common_runtime/executor.cc:1197] [/device:CPU:0] (DEBUG INFO) Executor start aborting (this does not indicate an error and you can ignore this message): INVALID_ARGUMENT: You must feed a value for placeholder tensor 'gradients/split_1_grad/concat/split_1/split_dim' with dtype int32\n",
            "\t [[{{node gradients/split_1_grad/concat/split_1/split_dim}}]]\n"
          ]
        },
        {
          "name": "stdout",
          "output_type": "stream",
          "text": [
            "3/3 [==============================] - 2s 10ms/step - loss: 0.7040 - accuracy: 0.4750\n",
            "Epoch 2/10\n",
            "3/3 [==============================] - 0s 13ms/step - loss: 0.7021 - accuracy: 0.4375\n",
            "Epoch 3/10\n",
            "3/3 [==============================] - 0s 15ms/step - loss: 0.6992 - accuracy: 0.4750\n",
            "Epoch 4/10\n",
            "3/3 [==============================] - 0s 15ms/step - loss: 0.6973 - accuracy: 0.4875\n",
            "Epoch 5/10\n",
            "3/3 [==============================] - 0s 15ms/step - loss: 0.6967 - accuracy: 0.4875\n",
            "Epoch 6/10\n",
            "3/3 [==============================] - 0s 16ms/step - loss: 0.6945 - accuracy: 0.4875\n",
            "Epoch 7/10\n",
            "3/3 [==============================] - 0s 17ms/step - loss: 0.6930 - accuracy: 0.4875\n",
            "Epoch 8/10\n",
            "3/3 [==============================] - 0s 15ms/step - loss: 0.6913 - accuracy: 0.5000\n",
            "Epoch 9/10\n",
            "3/3 [==============================] - 0s 16ms/step - loss: 0.6890 - accuracy: 0.5375\n",
            "Epoch 10/10\n",
            "3/3 [==============================] - 0s 14ms/step - loss: 0.6861 - accuracy: 0.5375\n",
            "1/1 [==============================] - 0s 374ms/step\n"
          ]
        },
        {
          "name": "stderr",
          "output_type": "stream",
          "text": [
            "2023-04-27 02:25:18.102947: I tensorflow/core/common_runtime/executor.cc:1197] [/device:CPU:0] (DEBUG INFO) Executor start aborting (this does not indicate an error and you can ignore this message): INVALID_ARGUMENT: You must feed a value for placeholder tensor 'gradients/split_2_grad/concat/split_2/split_dim' with dtype int32\n",
            "\t [[{{node gradients/split_2_grad/concat/split_2/split_dim}}]]\n",
            "2023-04-27 02:25:18.107091: I tensorflow/core/common_runtime/executor.cc:1197] [/device:CPU:0] (DEBUG INFO) Executor start aborting (this does not indicate an error and you can ignore this message): INVALID_ARGUMENT: You must feed a value for placeholder tensor 'gradients/split_grad/concat/split/split_dim' with dtype int32\n",
            "\t [[{{node gradients/split_grad/concat/split/split_dim}}]]\n",
            "2023-04-27 02:25:18.110361: I tensorflow/core/common_runtime/executor.cc:1197] [/device:CPU:0] (DEBUG INFO) Executor start aborting (this does not indicate an error and you can ignore this message): INVALID_ARGUMENT: You must feed a value for placeholder tensor 'gradients/split_1_grad/concat/split_1/split_dim' with dtype int32\n",
            "\t [[{{node gradients/split_1_grad/concat/split_1/split_dim}}]]\n"
          ]
        },
        {
          "name": "stdout",
          "output_type": "stream",
          "text": [
            "Epoch 1/10\n"
          ]
        },
        {
          "name": "stderr",
          "output_type": "stream",
          "text": [
            "2023-04-27 02:25:18.499976: I tensorflow/core/common_runtime/executor.cc:1197] [/device:CPU:0] (DEBUG INFO) Executor start aborting (this does not indicate an error and you can ignore this message): INVALID_ARGUMENT: You must feed a value for placeholder tensor 'gradients/split_2_grad/concat/split_2/split_dim' with dtype int32\n",
            "\t [[{{node gradients/split_2_grad/concat/split_2/split_dim}}]]\n",
            "2023-04-27 02:25:18.501409: I tensorflow/core/common_runtime/executor.cc:1197] [/device:CPU:0] (DEBUG INFO) Executor start aborting (this does not indicate an error and you can ignore this message): INVALID_ARGUMENT: You must feed a value for placeholder tensor 'gradients/split_grad/concat/split/split_dim' with dtype int32\n",
            "\t [[{{node gradients/split_grad/concat/split/split_dim}}]]\n",
            "2023-04-27 02:25:18.502471: I tensorflow/core/common_runtime/executor.cc:1197] [/device:CPU:0] (DEBUG INFO) Executor start aborting (this does not indicate an error and you can ignore this message): INVALID_ARGUMENT: You must feed a value for placeholder tensor 'gradients/split_1_grad/concat/split_1/split_dim' with dtype int32\n",
            "\t [[{{node gradients/split_1_grad/concat/split_1/split_dim}}]]\n",
            "2023-04-27 02:25:18.850000: I tensorflow/core/common_runtime/executor.cc:1197] [/device:CPU:0] (DEBUG INFO) Executor start aborting (this does not indicate an error and you can ignore this message): INVALID_ARGUMENT: You must feed a value for placeholder tensor 'gradients/split_2_grad/concat/split_2/split_dim' with dtype int32\n",
            "\t [[{{node gradients/split_2_grad/concat/split_2/split_dim}}]]\n",
            "2023-04-27 02:25:18.851926: I tensorflow/core/common_runtime/executor.cc:1197] [/device:CPU:0] (DEBUG INFO) Executor start aborting (this does not indicate an error and you can ignore this message): INVALID_ARGUMENT: You must feed a value for placeholder tensor 'gradients/split_grad/concat/split/split_dim' with dtype int32\n",
            "\t [[{{node gradients/split_grad/concat/split/split_dim}}]]\n",
            "2023-04-27 02:25:18.853360: I tensorflow/core/common_runtime/executor.cc:1197] [/device:CPU:0] (DEBUG INFO) Executor start aborting (this does not indicate an error and you can ignore this message): INVALID_ARGUMENT: You must feed a value for placeholder tensor 'gradients/split_1_grad/concat/split_1/split_dim' with dtype int32\n",
            "\t [[{{node gradients/split_1_grad/concat/split_1/split_dim}}]]\n",
            "2023-04-27 02:25:19.627425: I tensorflow/core/common_runtime/executor.cc:1197] [/device:CPU:0] (DEBUG INFO) Executor start aborting (this does not indicate an error and you can ignore this message): INVALID_ARGUMENT: You must feed a value for placeholder tensor 'gradients/split_2_grad/concat/split_2/split_dim' with dtype int32\n",
            "\t [[{{node gradients/split_2_grad/concat/split_2/split_dim}}]]\n",
            "2023-04-27 02:25:19.629037: I tensorflow/core/common_runtime/executor.cc:1197] [/device:CPU:0] (DEBUG INFO) Executor start aborting (this does not indicate an error and you can ignore this message): INVALID_ARGUMENT: You must feed a value for placeholder tensor 'gradients/split_grad/concat/split/split_dim' with dtype int32\n",
            "\t [[{{node gradients/split_grad/concat/split/split_dim}}]]\n",
            "2023-04-27 02:25:19.630581: I tensorflow/core/common_runtime/executor.cc:1197] [/device:CPU:0] (DEBUG INFO) Executor start aborting (this does not indicate an error and you can ignore this message): INVALID_ARGUMENT: You must feed a value for placeholder tensor 'gradients/split_1_grad/concat/split_1/split_dim' with dtype int32\n",
            "\t [[{{node gradients/split_1_grad/concat/split_1/split_dim}}]]\n"
          ]
        },
        {
          "name": "stdout",
          "output_type": "stream",
          "text": [
            "3/3 [==============================] - 2s 9ms/step - loss: 0.6936 - accuracy: 0.4875\n",
            "Epoch 2/10\n",
            "3/3 [==============================] - 0s 13ms/step - loss: 0.6926 - accuracy: 0.5000\n",
            "Epoch 3/10\n",
            "3/3 [==============================] - 0s 13ms/step - loss: 0.6920 - accuracy: 0.4875\n",
            "Epoch 4/10\n",
            "3/3 [==============================] - 0s 13ms/step - loss: 0.6912 - accuracy: 0.5000\n",
            "Epoch 5/10\n",
            "3/3 [==============================] - 0s 15ms/step - loss: 0.6910 - accuracy: 0.5125\n",
            "Epoch 6/10\n",
            "3/3 [==============================] - 0s 15ms/step - loss: 0.6902 - accuracy: 0.5375\n",
            "Epoch 7/10\n",
            "3/3 [==============================] - 0s 15ms/step - loss: 0.6898 - accuracy: 0.5250\n",
            "Epoch 8/10\n",
            "3/3 [==============================] - 0s 15ms/step - loss: 0.6893 - accuracy: 0.5375\n",
            "Epoch 9/10\n",
            "3/3 [==============================] - 0s 14ms/step - loss: 0.6889 - accuracy: 0.5500\n",
            "Epoch 10/10\n",
            "3/3 [==============================] - 0s 15ms/step - loss: 0.6875 - accuracy: 0.5500\n",
            "WARNING:tensorflow:5 out of the last 35 calls to <function Model.make_predict_function.<locals>.predict_function at 0x7fab5f05e320> triggered tf.function retracing. Tracing is expensive and the excessive number of tracings could be due to (1) creating @tf.function repeatedly in a loop, (2) passing tensors with different shapes, (3) passing Python objects instead of tensors. For (1), please define your @tf.function outside of the loop. For (2), @tf.function has reduce_retracing=True option that can avoid unnecessary retracing. For (3), please refer to https://www.tensorflow.org/guide/function#controlling_retracing and https://www.tensorflow.org/api_docs/python/tf/function for  more details.\n",
            "1/1 [==============================] - 0s 311ms/step\n"
          ]
        },
        {
          "name": "stderr",
          "output_type": "stream",
          "text": [
            "2023-04-27 02:25:21.519033: I tensorflow/core/common_runtime/executor.cc:1197] [/device:CPU:0] (DEBUG INFO) Executor start aborting (this does not indicate an error and you can ignore this message): INVALID_ARGUMENT: You must feed a value for placeholder tensor 'gradients/split_2_grad/concat/split_2/split_dim' with dtype int32\n",
            "\t [[{{node gradients/split_2_grad/concat/split_2/split_dim}}]]\n",
            "2023-04-27 02:25:21.521100: I tensorflow/core/common_runtime/executor.cc:1197] [/device:CPU:0] (DEBUG INFO) Executor start aborting (this does not indicate an error and you can ignore this message): INVALID_ARGUMENT: You must feed a value for placeholder tensor 'gradients/split_grad/concat/split/split_dim' with dtype int32\n",
            "\t [[{{node gradients/split_grad/concat/split/split_dim}}]]\n",
            "2023-04-27 02:25:21.522367: I tensorflow/core/common_runtime/executor.cc:1197] [/device:CPU:0] (DEBUG INFO) Executor start aborting (this does not indicate an error and you can ignore this message): INVALID_ARGUMENT: You must feed a value for placeholder tensor 'gradients/split_1_grad/concat/split_1/split_dim' with dtype int32\n",
            "\t [[{{node gradients/split_1_grad/concat/split_1/split_dim}}]]\n"
          ]
        },
        {
          "name": "stdout",
          "output_type": "stream",
          "text": [
            "Epoch 1/10\n"
          ]
        },
        {
          "name": "stderr",
          "output_type": "stream",
          "text": [
            "2023-04-27 02:25:21.871503: I tensorflow/core/common_runtime/executor.cc:1197] [/device:CPU:0] (DEBUG INFO) Executor start aborting (this does not indicate an error and you can ignore this message): INVALID_ARGUMENT: You must feed a value for placeholder tensor 'gradients/split_2_grad/concat/split_2/split_dim' with dtype int32\n",
            "\t [[{{node gradients/split_2_grad/concat/split_2/split_dim}}]]\n",
            "2023-04-27 02:25:21.872989: I tensorflow/core/common_runtime/executor.cc:1197] [/device:CPU:0] (DEBUG INFO) Executor start aborting (this does not indicate an error and you can ignore this message): INVALID_ARGUMENT: You must feed a value for placeholder tensor 'gradients/split_grad/concat/split/split_dim' with dtype int32\n",
            "\t [[{{node gradients/split_grad/concat/split/split_dim}}]]\n",
            "2023-04-27 02:25:21.874064: I tensorflow/core/common_runtime/executor.cc:1197] [/device:CPU:0] (DEBUG INFO) Executor start aborting (this does not indicate an error and you can ignore this message): INVALID_ARGUMENT: You must feed a value for placeholder tensor 'gradients/split_1_grad/concat/split_1/split_dim' with dtype int32\n",
            "\t [[{{node gradients/split_1_grad/concat/split_1/split_dim}}]]\n",
            "2023-04-27 02:25:22.191418: I tensorflow/core/common_runtime/executor.cc:1197] [/device:CPU:0] (DEBUG INFO) Executor start aborting (this does not indicate an error and you can ignore this message): INVALID_ARGUMENT: You must feed a value for placeholder tensor 'gradients/split_2_grad/concat/split_2/split_dim' with dtype int32\n",
            "\t [[{{node gradients/split_2_grad/concat/split_2/split_dim}}]]\n",
            "2023-04-27 02:25:22.194062: I tensorflow/core/common_runtime/executor.cc:1197] [/device:CPU:0] (DEBUG INFO) Executor start aborting (this does not indicate an error and you can ignore this message): INVALID_ARGUMENT: You must feed a value for placeholder tensor 'gradients/split_grad/concat/split/split_dim' with dtype int32\n",
            "\t [[{{node gradients/split_grad/concat/split/split_dim}}]]\n",
            "2023-04-27 02:25:22.195601: I tensorflow/core/common_runtime/executor.cc:1197] [/device:CPU:0] (DEBUG INFO) Executor start aborting (this does not indicate an error and you can ignore this message): INVALID_ARGUMENT: You must feed a value for placeholder tensor 'gradients/split_1_grad/concat/split_1/split_dim' with dtype int32\n",
            "\t [[{{node gradients/split_1_grad/concat/split_1/split_dim}}]]\n",
            "2023-04-27 02:25:22.924299: I tensorflow/core/common_runtime/executor.cc:1197] [/device:CPU:0] (DEBUG INFO) Executor start aborting (this does not indicate an error and you can ignore this message): INVALID_ARGUMENT: You must feed a value for placeholder tensor 'gradients/split_2_grad/concat/split_2/split_dim' with dtype int32\n",
            "\t [[{{node gradients/split_2_grad/concat/split_2/split_dim}}]]\n",
            "2023-04-27 02:25:22.925828: I tensorflow/core/common_runtime/executor.cc:1197] [/device:CPU:0] (DEBUG INFO) Executor start aborting (this does not indicate an error and you can ignore this message): INVALID_ARGUMENT: You must feed a value for placeholder tensor 'gradients/split_grad/concat/split/split_dim' with dtype int32\n",
            "\t [[{{node gradients/split_grad/concat/split/split_dim}}]]\n",
            "2023-04-27 02:25:22.927021: I tensorflow/core/common_runtime/executor.cc:1197] [/device:CPU:0] (DEBUG INFO) Executor start aborting (this does not indicate an error and you can ignore this message): INVALID_ARGUMENT: You must feed a value for placeholder tensor 'gradients/split_1_grad/concat/split_1/split_dim' with dtype int32\n",
            "\t [[{{node gradients/split_1_grad/concat/split_1/split_dim}}]]\n"
          ]
        },
        {
          "name": "stdout",
          "output_type": "stream",
          "text": [
            "3/3 [==============================] - 2s 10ms/step - loss: 0.6931 - accuracy: 0.5000\n",
            "Epoch 2/10\n",
            "3/3 [==============================] - 0s 11ms/step - loss: 0.6915 - accuracy: 0.5000\n",
            "Epoch 3/10\n",
            "3/3 [==============================] - 0s 13ms/step - loss: 0.6895 - accuracy: 0.5625\n",
            "Epoch 4/10\n",
            "3/3 [==============================] - 0s 17ms/step - loss: 0.6884 - accuracy: 0.5250\n",
            "Epoch 5/10\n",
            "3/3 [==============================] - 0s 22ms/step - loss: 0.6862 - accuracy: 0.5625\n",
            "Epoch 6/10\n",
            "3/3 [==============================] - 0s 15ms/step - loss: 0.6848 - accuracy: 0.5500\n",
            "Epoch 7/10\n",
            "3/3 [==============================] - 0s 18ms/step - loss: 0.6816 - accuracy: 0.5750\n",
            "Epoch 8/10\n",
            "3/3 [==============================] - 0s 19ms/step - loss: 0.6772 - accuracy: 0.5875\n",
            "Epoch 9/10\n",
            "3/3 [==============================] - 0s 16ms/step - loss: 0.6713 - accuracy: 0.6125\n",
            "Epoch 10/10\n",
            "3/3 [==============================] - 0s 18ms/step - loss: 0.6633 - accuracy: 0.6625\n",
            "WARNING:tensorflow:6 out of the last 36 calls to <function Model.make_predict_function.<locals>.predict_function at 0x7fab73b2ecb0> triggered tf.function retracing. Tracing is expensive and the excessive number of tracings could be due to (1) creating @tf.function repeatedly in a loop, (2) passing tensors with different shapes, (3) passing Python objects instead of tensors. For (1), please define your @tf.function outside of the loop. For (2), @tf.function has reduce_retracing=True option that can avoid unnecessary retracing. For (3), please refer to https://www.tensorflow.org/guide/function#controlling_retracing and https://www.tensorflow.org/api_docs/python/tf/function for  more details.\n",
            "1/1 [==============================] - 1s 780ms/step\n",
            "[0.55 0.45 0.6  0.4  0.35]\n"
          ]
        },
        {
          "name": "stderr",
          "output_type": "stream",
          "text": [
            "2023-04-27 02:25:25.119978: I tensorflow/core/common_runtime/executor.cc:1197] [/device:CPU:0] (DEBUG INFO) Executor start aborting (this does not indicate an error and you can ignore this message): INVALID_ARGUMENT: You must feed a value for placeholder tensor 'gradients/split_2_grad/concat/split_2/split_dim' with dtype int32\n",
            "\t [[{{node gradients/split_2_grad/concat/split_2/split_dim}}]]\n",
            "2023-04-27 02:25:25.121521: I tensorflow/core/common_runtime/executor.cc:1197] [/device:CPU:0] (DEBUG INFO) Executor start aborting (this does not indicate an error and you can ignore this message): INVALID_ARGUMENT: You must feed a value for placeholder tensor 'gradients/split_grad/concat/split/split_dim' with dtype int32\n",
            "\t [[{{node gradients/split_grad/concat/split/split_dim}}]]\n",
            "2023-04-27 02:25:25.122619: I tensorflow/core/common_runtime/executor.cc:1197] [/device:CPU:0] (DEBUG INFO) Executor start aborting (this does not indicate an error and you can ignore this message): INVALID_ARGUMENT: You must feed a value for placeholder tensor 'gradients/split_1_grad/concat/split_1/split_dim' with dtype int32\n",
            "\t [[{{node gradients/split_1_grad/concat/split_1/split_dim}}]]\n"
          ]
        }
      ],
      "source": [
        "from tensorflow.keras.wrappers.scikit_learn import KerasClassifier\n",
        "from sklearn.metrics import accuracy_score\n",
        "from sklearn.model_selection import cross_val_score\n",
        "from sklearn.metrics import make_scorer\n",
        "\n",
        "def create_gru_model(input_shape):\n",
        "    inputs = Input(shape=input_shape)\n",
        "    gru = GRU(units=64, activation='tanh')(inputs)\n",
        "    outputs = Dense(1, activation='sigmoid')(gru)\n",
        "    model = Model(inputs=inputs, outputs=outputs)\n",
        "    model.compile(loss='binary_crossentropy', optimizer='adam', metrics=['accuracy'])\n",
        "    return model\n",
        "\n",
        "\n",
        "# Define the scoring metric\n",
        "scoring_metric = make_scorer(accuracy_score)\n",
        "\n",
        "# Create the KerasClassifier object\n",
        "model = KerasClassifier(build_fn=create_gru_model, input_shape=(training.shape[1], 1), epochs=10, batch_size=32)\n",
        "\n",
        "# Evaluate the estimator using cross-validation\n",
        "cv_scores = cross_val_score(model, training, output, cv=5, scoring=scoring_metric)\n",
        "\n",
        "# Print the cross-validation scores\n",
        "print(cv_scores)\n"
      ]
    }
  ],
  "metadata": {
    "colab": {
      "provenance": []
    },
    "kernelspec": {
      "display_name": "Python 3",
      "name": "python3"
    },
    "language_info": {
      "codemirror_mode": {
        "name": "ipython",
        "version": 3
      },
      "file_extension": ".py",
      "mimetype": "text/x-python",
      "name": "python",
      "nbconvert_exporter": "python",
      "pygments_lexer": "ipython3",
      "version": "3.10.6"
    }
  },
  "nbformat": 4,
  "nbformat_minor": 0
}
